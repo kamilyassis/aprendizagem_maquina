{
  "cells": [
    {
      "cell_type": "markdown",
      "metadata": {
        "id": "0JFhnlk7at7A"
      },
      "source": [
        "# <font color=\"lightblue\"> Prática 02: Algoritmo k-NN </font>"
      ]
    },
    {
      "cell_type": "markdown",
      "source": [
        "Aluna: Kamily Assis de Oliveira"
      ],
      "metadata": {
        "id": "1jH9H_YJvPNk"
      }
    },
    {
      "cell_type": "markdown",
      "metadata": {
        "id": "_Txy0UzyawTX"
      },
      "source": [
        "**Objetivos:**\n",
        "\n",
        "\n",
        "*   Aplicar o algoritmo k-NN a um problema prático.\n",
        "*   Apresentar as funções do Scikit-Learn que lidam com o k-NN.\n",
        "\n"
      ]
    },
    {
      "cell_type": "markdown",
      "metadata": {
        "id": "keyryvT2bIae"
      },
      "source": [
        "**Descrição:**\n",
        "\n",
        "Implemente duas versões de um classificador que usa o algoritmo k-NN para identificar dígitos escritos à mão a partir de um conjunto de imagens e compare os tempoa de execução. Na primeira versão, você deverá implementar o algoritmo k-NN conforme visto em sala de aula. Na segunda, você deverá usar a algoritmo k-NN da biblioteca Scikit-Learn. O conjunto de imagens a ser utilizado consiste no dataset <i> Digits </i> da biblioteca Scikit-Learn."
      ]
    },
    {
      "cell_type": "markdown",
      "metadata": {
        "id": "wWnD-OFybVw1"
      },
      "source": [
        "# <font color=\"lightblue\"> Solução </font>"
      ]
    },
    {
      "cell_type": "markdown",
      "metadata": {
        "id": "ioVFway7cWiw"
      },
      "source": [
        "### Descrição do Dataset"
      ]
    },
    {
      "cell_type": "code",
      "execution_count": 40,
      "metadata": {
        "colab": {
          "base_uri": "https://localhost:8080/"
        },
        "id": "Lh0fUl5BbR5J",
        "outputId": "bfe8ab1c-c596-49e5-aa13-9a1fc7dbbbf3"
      },
      "outputs": [
        {
          "output_type": "stream",
          "name": "stdout",
          "text": [
            ".. _digits_dataset:\n",
            "\n",
            "Optical recognition of handwritten digits dataset\n",
            "--------------------------------------------------\n",
            "\n",
            "**Data Set Characteristics:**\n",
            "\n",
            "    :Number of Instances: 1797\n",
            "    :Number of Attributes: 64\n",
            "    :Attribute Information: 8x8 image of integer pixels in the range 0..16.\n",
            "    :Missing Attribute Values: None\n",
            "    :Creator: E. Alpaydin (alpaydin '@' boun.edu.tr)\n",
            "    :Date: July; 1998\n",
            "\n",
            "This is a copy of the test set of the UCI ML hand-written digits datasets\n",
            "https://archive.ics.uci.edu/ml/datasets/Optical+Recognition+of+Handwritten+Digits\n",
            "\n",
            "The data set contains images of hand-written digits: 10 classes where\n",
            "each class refers to a digit.\n",
            "\n",
            "Preprocessing programs made available by NIST were used to extract\n",
            "normalized bitmaps of handwritten digits from a preprinted form. From a\n",
            "total of 43 people, 30 contributed to the training set and different 13\n",
            "to the test set. 32x32 bitmaps are divided into nonoverlapping blocks of\n",
            "4x4 and the number of on pixels are counted in each block. This generates\n",
            "an input matrix of 8x8 where each element is an integer in the range\n",
            "0..16. This reduces dimensionality and gives invariance to small\n",
            "distortions.\n",
            "\n",
            "For info on NIST preprocessing routines, see M. D. Garris, J. L. Blue, G.\n",
            "T. Candela, D. L. Dimmick, J. Geist, P. J. Grother, S. A. Janet, and C.\n",
            "L. Wilson, NIST Form-Based Handprint Recognition System, NISTIR 5469,\n",
            "1994.\n",
            "\n",
            ".. topic:: References\n",
            "\n",
            "  - C. Kaynak (1995) Methods of Combining Multiple Classifiers and Their\n",
            "    Applications to Handwritten Digit Recognition, MSc Thesis, Institute of\n",
            "    Graduate Studies in Science and Engineering, Bogazici University.\n",
            "  - E. Alpaydin, C. Kaynak (1998) Cascading Classifiers, Kybernetika.\n",
            "  - Ken Tang and Ponnuthurai N. Suganthan and Xi Yao and A. Kai Qin.\n",
            "    Linear dimensionalityreduction using relevance weighted LDA. School of\n",
            "    Electrical and Electronic Engineering Nanyang Technological University.\n",
            "    2005.\n",
            "  - Claudio Gentile. A New Approximate Maximal Margin Classification\n",
            "    Algorithm. NIPS. 2000.\n",
            "\n"
          ]
        }
      ],
      "source": [
        "#%matplotlib inline\n",
        "import matplotlib.pyplot as plt\n",
        "from sklearn.datasets import load_digits\n",
        "from sklearn.model_selection import train_test_split\n",
        "from sklearn.neighbors import KNeighborsClassifier\n",
        "\n",
        "digits = load_digits()\n",
        "print(digits.DESCR)"
      ]
    },
    {
      "cell_type": "markdown",
      "metadata": {
        "id": "d1uwR3lIwFcR"
      },
      "source": [
        "### Exploração do Dataset"
      ]
    },
    {
      "cell_type": "code",
      "execution_count": 41,
      "metadata": {
        "colab": {
          "base_uri": "https://localhost:8080/"
        },
        "id": "dLWAS9VUd0lm",
        "outputId": "e53a5865-4468-4039-c364-16a906bab393"
      },
      "outputs": [
        {
          "output_type": "stream",
          "name": "stdout",
          "text": [
            "2\n",
            "(1797, 64)\n",
            "<class 'numpy.ndarray'>\n",
            "[[ 0.  0.  1.  9. 15. 11.  0.  0.]\n",
            " [ 0.  0. 11. 16.  8. 14.  6.  0.]\n",
            " [ 0.  2. 16. 10.  0.  9.  9.  0.]\n",
            " [ 0.  1. 16.  4.  0.  8.  8.  0.]\n",
            " [ 0.  4. 16.  4.  0.  8.  8.  0.]\n",
            " [ 0.  1. 16.  5.  1. 11.  3.  0.]\n",
            " [ 0.  0. 12. 12. 10. 10.  0.  0.]\n",
            " [ 0.  0.  1. 10. 13.  3.  0.  0.]]\n"
          ]
        }
      ],
      "source": [
        "print(digits.target[12])\n",
        "print(digits.data.shape)\n",
        "print(type(digits.data))\n",
        "print(digits.images[10])"
      ]
    },
    {
      "cell_type": "code",
      "source": [
        "x, y = digits.data, digits.target\n",
        "\n",
        "num_amostras = x.shape[0]\n",
        "num_amostras"
      ],
      "metadata": {
        "colab": {
          "base_uri": "https://localhost:8080/"
        },
        "id": "rPejOosyRWsA",
        "outputId": "b1abaed5-053a-4f24-8792-73107c9899b0"
      },
      "execution_count": 42,
      "outputs": [
        {
          "output_type": "execute_result",
          "data": {
            "text/plain": [
              "1797"
            ]
          },
          "metadata": {},
          "execution_count": 42
        }
      ]
    },
    {
      "cell_type": "markdown",
      "metadata": {
        "id": "_JtDQu4Bcp1X"
      },
      "source": [
        "### Exibição das imagens"
      ]
    },
    {
      "cell_type": "code",
      "execution_count": 43,
      "metadata": {
        "colab": {
          "base_uri": "https://localhost:8080/",
          "height": 0
        },
        "id": "5_8VQTOfb3c9",
        "outputId": "aab3607e-12c6-4889-ea94-04cf5546c73f"
      },
      "outputs": [
        {
          "output_type": "display_data",
          "data": {
            "text/plain": [
              "<Figure size 200x200 with 4 Axes>"
            ],
            "image/png": "[encoded data removed]"
          },
          "metadata": {}
        }
      ],
      "source": [
        "figure, axes = plt.subplots(nrows=2, ncols=2, figsize=(2, 2))\n",
        "\n",
        "for item in zip(axes.ravel(), digits.images, digits.target):\n",
        "    axes, image, target = item\n",
        "    axes.imshow(image, cmap=plt.cm.gray_r)\n",
        "    axes.set_xticks([])\n",
        "    axes.set_yticks([])\n",
        "    axes.set_title(target)\n",
        "\n",
        "# usado para um numero nao ficar em cima do outro\n",
        "plt.tight_layout()"
      ]
    },
    {
      "cell_type": "markdown",
      "metadata": {
        "id": "8d8JkaJKcv9O"
      },
      "source": [
        "### Implementação da Versão 1 do classificador\n",
        "Divida os dados em dois conjuntos, de treino e teste, implemente o Algoritmo k-NN conforme discutido em sala de aula e exiba a acurácia da classificação e o tempo de execução."
      ]
    },
    {
      "cell_type": "markdown",
      "source": [
        "Passos:\n",
        "\n",
        "1 - Pegar o dataset de treinamento\n",
        "\n",
        "2- escolher um K (preferencialmente ímpar)\n",
        "\n",
        "3 - pegar o dado teste (um novo ponto)\n",
        "\n",
        "4 - calcular a distancia euclidiana\n",
        "\n",
        "5 - selecionar os k-vizinhos mais próximos\n",
        "\n",
        "6 - classificar"
      ],
      "metadata": {
        "id": "8zYtTf84zWuM"
      }
    },
    {
      "cell_type": "code",
      "source": [
        "import numpy as np\n",
        "import time\n",
        "from scipy.spatial import distance\n",
        "from collections import Counter"
      ],
      "metadata": {
        "id": "OspTRamfvgwN"
      },
      "execution_count": 44,
      "outputs": []
    },
    {
      "cell_type": "code",
      "source": [
        "#@title Separando treino e teste\n",
        "\n",
        "#embaralhando o conjunto de indices\n",
        "indices = np.arange(num_amostras)\n",
        "np.random.shuffle(indices)\n",
        "\n",
        "\n",
        "#treino e teste (treino 70% teste 30%)\n",
        "tam_treino = int(num_amostras * 0.7)\n",
        "ind_treino = indices[:tam_treino]\n",
        "ind_teste = indices[tam_treino:]\n",
        "\n",
        "\n",
        "#separando as info\n",
        "treino = x[ind_treino]\n",
        "teste = x[ind_teste]\n",
        "rotulos_treino = y[ind_treino]\n",
        "rotulos_teste = y[ind_teste]\n",
        "\n",
        "print(f'Tamanho do conjunto de treino: {treino.shape[0]}')\n",
        "print(f'Tamanho do conjunto de teste: {teste.shape[0]}')\n"
      ],
      "metadata": {
        "colab": {
          "base_uri": "https://localhost:8080/"
        },
        "id": "valvL1hWQz4b",
        "outputId": "8f9fc470-8ae1-473b-dcd6-666e705a4960"
      },
      "execution_count": 45,
      "outputs": [
        {
          "output_type": "stream",
          "name": "stdout",
          "text": [
            "Tamanho do conjunto de treino: 1257\n",
            "Tamanho do conjunto de teste: 540\n"
          ]
        }
      ]
    },
    {
      "cell_type": "code",
      "source": [
        "def distancia_euclidiana(a, b):\n",
        "  return np.sqrt(np.sum((a - b)**2))"
      ],
      "metadata": {
        "id": "0FAAIwyIx2HU"
      },
      "execution_count": 46,
      "outputs": []
    },
    {
      "cell_type": "code",
      "execution_count": 47,
      "metadata": {
        "id": "ewjuGp7iwFcT"
      },
      "outputs": [],
      "source": [
        "#R-64 / cada pixel faz parte da cordenada - (x1, x2, ..., x64)\n",
        "\n",
        "#função knn\n",
        "def knn(teste, treino, rotulos_treino, k=3):\n",
        "\n",
        "  previsoes = []\n",
        "\n",
        "  for t in teste:\n",
        "\n",
        "    distancia_tupla = []\n",
        "    #distancia euclidiana entre os elementos\n",
        "    for tr in treino:\n",
        "\n",
        "      distancias = distancia_euclidiana(t, tr)\n",
        "      distancia_tupla.append(distancias)\n",
        "\n",
        "    #os mais proximos (usando k para ficar generico, mas nesse caso é 3)\n",
        "    vizinhos_prox = np.argsort(distancia_tupla)[:k]\n",
        "\n",
        "    #os mais comuns\n",
        "    vizinhos_comum = []\n",
        "\n",
        "    for i in vizinhos_prox:\n",
        "      vizinhos = rotulos_treino[i]\n",
        "      vizinhos_comum.append(vizinhos)\n",
        "\n",
        "    contador = Counter(vizinhos_comum)\n",
        "\n",
        "    mais_comum, contagem = contador.most_common(1)[0]\n",
        "\n",
        "    previsoes.append(mais_comum)\n",
        "\n",
        "  return previsoes"
      ]
    },
    {
      "cell_type": "code",
      "source": [
        "inicio = time.time()\n",
        "\n",
        "#previsoes\n",
        "previsoes = knn(teste, treino, rotulos_treino) #mantendo k=3 mesmo\n",
        "\n",
        "#acuracia\n",
        "acertos = 0\n",
        "erros = 0\n",
        "\n",
        "for predicao, real in zip(previsoes, rotulos_teste):\n",
        "  if predicao == real:\n",
        "    acertos += 1\n",
        "  else:\n",
        "    erros += 1\n",
        "\n",
        "acuracia = acertos/len(rotulos_teste)*100\n",
        "print(f\"Acurácia: {acuracia:.2f}%\")\n",
        "\n",
        "fim = time.time()\n",
        "\n",
        "#execução\n",
        "tempo_execucao = fim - inicio\n",
        "print(f\"Tempo de execução: {tempo_execucao:.2f} segundos\")"
      ],
      "metadata": {
        "colab": {
          "base_uri": "https://localhost:8080/"
        },
        "id": "o_MUn7BGsbwb",
        "outputId": "98e80cf8-dcf0-40b1-c459-7035b15c71ac"
      },
      "execution_count": 48,
      "outputs": [
        {
          "output_type": "stream",
          "name": "stdout",
          "text": [
            "Acurácia: 98.70%\n",
            "Tempo de execução: 5.36 segundos\n"
          ]
        }
      ]
    },
    {
      "cell_type": "markdown",
      "metadata": {
        "id": "686XAQ4EwFcU"
      },
      "source": [
        "### Implementação da Versão 2 do classificador\n",
        "Utilize a função train_test_split() da bibioteca Scikit-Learn para separar os dados em treino e teste e o classificador k-NN da própria biblioteca para identificação dos dígitos. Ao final, exiba a classificação e o tempo de execução."
      ]
    },
    {
      "cell_type": "code",
      "source": [
        "from sklearn.model_selection import train_test_split\n",
        "from sklearn.neighbors import KNeighborsClassifier\n",
        "from sklearn.metrics import accuracy_score\n",
        "from sklearn.utils import shuffle"
      ],
      "metadata": {
        "id": "5mXIIhIDxa29"
      },
      "execution_count": 51,
      "outputs": []
    },
    {
      "cell_type": "code",
      "execution_count": 52,
      "metadata": {
        "id": "4uvAVl5Cc6nc",
        "scrolled": true,
        "colab": {
          "base_uri": "https://localhost:8080/"
        },
        "outputId": "7d04aaea-54f7-4ed2-9969-e182bdf8c061"
      },
      "outputs": [
        {
          "output_type": "stream",
          "name": "stdout",
          "text": [
            "Acurácia: 98.70%\n",
            "Tempo de execução: 0.21 segundos\n"
          ]
        }
      ],
      "source": [
        "treino, teste, rotulos_treino, rotulos_teste = train_test_split(\n",
        "    x, y, test_size=0.3, random_state=0\n",
        "    )\n",
        "\n",
        "knn = KNeighborsClassifier(n_neighbors=3)\n",
        "knn.fit(treino, rotulos_treino)\n",
        "\n",
        "inicio = time.time()\n",
        "predictions = knn.predict(teste)\n",
        "fim = time.time()\n",
        "\n",
        "accuracy = accuracy_score(rotulos_teste, predictions)\n",
        "\n",
        "\n",
        "tempo_execucao = fim - inicio\n",
        "print(f\"Acurácia: {accuracy*100:.2f}%\")\n",
        "print(f\"Tempo de execução: {tempo_execucao:.2f} segundos\")"
      ]
    }
  ],
  "metadata": {
    "colab": {
      "collapsed_sections": [
        "ioVFway7cWiw",
        "_JtDQu4Bcp1X",
        "8d8JkaJKcv9O"
      ],
      "provenance": []
    },
    "kernelspec": {
      "display_name": "Python 3 (ipykernel)",
      "language": "python",
      "name": "python3"
    },
    "language_info": {
      "codemirror_mode": {
        "name": "ipython",
        "version": 3
      },
      "file_extension": ".py",
      "mimetype": "text/x-python",
      "name": "python",
      "nbconvert_exporter": "python",
      "pygments_lexer": "ipython3",
      "version": "3.10.9"
    }
  },
  "nbformat": 4,
  "nbformat_minor": 0
}